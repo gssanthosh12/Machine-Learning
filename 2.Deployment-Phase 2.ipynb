{
 "cells": [
  {
   "cell_type": "code",
   "execution_count": 1,
   "id": "6930a127-d1a6-4fdc-bcc0-de3209912f10",
   "metadata": {},
   "outputs": [],
   "source": [
    "import pickle\n",
    "\n",
    "#for deployment open a seperate py file and import pickle"
   ]
  },
  {
   "cell_type": "code",
   "execution_count": 3,
   "id": "8b4d852d-acd4-4e7f-aa65-4f8eb4ac51bb",
   "metadata": {},
   "outputs": [
    {
     "name": "stderr",
     "output_type": "stream",
     "text": [
      "C:\\Users\\gssan\\anaconda3\\Lib\\site-packages\\sklearn\\utils\\validation.py:2739: UserWarning: X does not have valid feature names, but LinearRegression was fitted with feature names\n",
      "  warnings.warn(\n"
     ]
    }
   ],
   "source": [
    "loaded_model=pickle.load(open(\"finalized_model_linear.sav\",'rb'))\n",
    "result=loaded_model.predict([[14]])\n",
    "\n",
    "# this is the saved model step\n",
    "# you can provide the imput as '0' here to know the bias model or minimum value\n",
    "# from y=mx+c , if initial x=0 then y=m(0)+c -> y=c , we calculated the value of 'c' bias from previous steps bias intercpet \n",
    "#bais=regressor.intercept_\n",
    "#bais\n",
    "# so the value for the '0' years of experience is already calculated from bias in previous step and the bias value from teh model is \"([26777.3913412])\"\n",
    "# we can change the inputs in loaded_model.predict([[2]]) and calculate the result"
   ]
  },
  {
   "cell_type": "code",
   "execution_count": 4,
   "id": "02782467-d040-417f-8025-cd4945a06047",
   "metadata": {},
   "outputs": [
    {
     "data": {
      "text/plain": [
       "array([[157821.04934791]])"
      ]
     },
     "execution_count": 4,
     "metadata": {},
     "output_type": "execute_result"
    }
   ],
   "source": [
    "result"
   ]
  },
  {
   "cell_type": "code",
   "execution_count": null,
   "id": "f205f865-ed99-4c85-a615-99f509363597",
   "metadata": {},
   "outputs": [],
   "source": []
  }
 ],
 "metadata": {
  "kernelspec": {
   "display_name": "Python [conda env:base] *",
   "language": "python",
   "name": "conda-base-py"
  },
  "language_info": {
   "codemirror_mode": {
    "name": "ipython",
    "version": 3
   },
   "file_extension": ".py",
   "mimetype": "text/x-python",
   "name": "python",
   "nbconvert_exporter": "python",
   "pygments_lexer": "ipython3",
   "version": "3.13.5"
  }
 },
 "nbformat": 4,
 "nbformat_minor": 5
}
